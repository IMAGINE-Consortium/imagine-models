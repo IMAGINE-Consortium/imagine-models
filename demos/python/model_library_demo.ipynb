{
 "cells": [
  {
   "cell_type": "markdown",
   "id": "0885a59a",
   "metadata": {},
   "source": [
    "# IMAGINE model library demo\n",
    "\n",
    "In this short demo, we illustrate the interface of the model library. \n",
    "We will discuss \n"
   ]
  },
  {
   "cell_type": "code",
   "execution_count": 1,
   "id": "04379d51",
   "metadata": {},
   "outputs": [
    {
     "data": {
      "text/plain": [
       "<contextlib.ExitStack at 0x7fa6e4460670>"
      ]
     },
     "execution_count": 1,
     "metadata": {},
     "output_type": "execute_result"
    }
   ],
   "source": [
    "import ImagineModels as img\n",
    "import numpy as np\n",
    "import matplotlib.pyplot as plt\n",
    "plt.ion()"
   ]
  },
  {
   "attachments": {},
   "cell_type": "markdown",
   "id": "9643ecbd",
   "metadata": {},
   "source": [
    "### 1.) Model initialization and evaluation at position"
   ]
  },
  {
   "attachments": {},
   "cell_type": "markdown",
   "id": "1cdbc787",
   "metadata": {},
   "source": [
    "All models are implemented as classes with a similar interface. \n",
    "The simplest way to initialize such class (in this case the [Jaffe et al.](https://arxiv.org/abs/0907.3994) model) is via"
   ]
  },
  {
   "cell_type": "code",
   "execution_count": 2,
   "id": "64897a4c",
   "metadata": {},
   "outputs": [],
   "source": [
    "jf12 = img.JF12RegularField()"
   ]
  },
  {
   "attachments": {},
   "cell_type": "markdown",
   "id": "0bb36fd2",
   "metadata": {},
   "source": [
    "All models assume a Galacto-centric coordinate system in units of kiloparsec.\n",
    "They can be evaluated at a position via the `at_position` member function:"
   ]
  },
  {
   "cell_type": "code",
   "execution_count": 3,
   "id": "dc011c4b",
   "metadata": {},
   "outputs": [
    {
     "name": "stdout",
     "output_type": "stream",
     "text": [
      "[0.32188229898803716, -0.13192063657348066, -1.7165051848966735]\n"
     ]
    }
   ],
   "source": [
    "position = [2, -2, 0.1]\n",
    "bfield_at_position = jf12.at_position(*position)\n",
    "print(bfield_at_position)"
   ]
  },
  {
   "attachments": {},
   "cell_type": "markdown",
   "id": "ad0cdf86",
   "metadata": {},
   "source": [
    "### 2.) Evaluation on grid"
   ]
  },
  {
   "attachments": {},
   "cell_type": "markdown",
   "id": "a407a5da",
   "metadata": {},
   "source": [
    "Alternatively, one may evaluate the model on a regular grid via the `on_grid` member function.\n",
    "For this, one needs to specify the number of cells, the cell increment and the zeropoint (i.e. the location of the point with minimal coordinate in all directions, again in Galacto-centric coordinates). \n",
    "The output will  "
   ]
  },
  {
   "cell_type": "code",
   "execution_count": 4,
   "id": "b84de7b6",
   "metadata": {},
   "outputs": [
    {
     "data": {
      "text/plain": [
       "<matplotlib.image.AxesImage at 0x7fa6ab5f82e0>"
      ]
     },
     "execution_count": 4,
     "metadata": {},
     "output_type": "execute_result"
    },
    {
     "data": {
      "image/png": "[encoded data removed]",
      "text/plain": [
       "<Figure size 640x480 with 1 Axes>"
      ]
     },
     "metadata": {},
     "output_type": "display_data"
    }
   ],
   "source": [
    "grid_shape = [100, 100, 1] # necessarily a list of 3 ints! \n",
    "increment = [.16, .16, .001]  \n",
    "zeropoint = [-8, -8, 0]\n",
    "\n",
    "bfield_on_regular_grid = jf12.on_regular_grid(grid_shape, increment, zeropoint)\n",
    "\n",
    "plt.imshow(bfield_on_regular_grid[1][:, :, 0], cmap='RdBu_r', origin='lower', vmin=-0.6, vmax=0.6)"
   ]
  },
  {
   "cell_type": "markdown",
   "id": "30c659c9",
   "metadata": {},
   "source": [
    "A third possibility to evaluate the model is on an irregular grid. \n",
    "For this, one needs to specify the x, y and z coordinates in separate arrays: "
   ]
  },
  {
   "cell_type": "code",
   "execution_count": 5,
   "id": "0bdc76ae",
   "metadata": {},
   "outputs": [],
   "source": [
    "x_coordinates = [-10, -9.5, 2]\n",
    "y_coordinates = [-5, -2, 0, .4]\n",
    "z_coordinates = [-.1, 0, .1]\n",
    "\n",
    "bfield_on_irregular_grid = jf12.on_grid(x_coordinates, y_coordinates, z_coordinates)"
   ]
  },
  {
   "attachments": {},
   "cell_type": "markdown",
   "id": "0eebfe88",
   "metadata": {},
   "source": [
    "### 3.) Model parameters "
   ]
  },
  {
   "cell_type": "markdown",
   "id": "2c3235d1",
   "metadata": {},
   "source": [
    "The model parameters are implemented as attributes of the classes:"
   ]
  },
  {
   "cell_type": "code",
   "execution_count": 6,
   "id": "6642af41",
   "metadata": {},
   "outputs": [
    {
     "name": "stdout",
     "output_type": "stream",
     "text": [
      "0.1\n"
     ]
    }
   ],
   "source": [
    "print(jf12.b_arm_1 )"
   ]
  },
  {
   "cell_type": "markdown",
   "id": "cf78235d",
   "metadata": {},
   "source": [
    "One can simply update the model parameters via  "
   ]
  },
  {
   "cell_type": "code",
   "execution_count": 7,
   "id": "6ae00d53",
   "metadata": {},
   "outputs": [
    {
     "name": "stdout",
     "output_type": "stream",
     "text": [
      "3.14\n"
     ]
    }
   ],
   "source": [
    "jf12.b_arm_1  = 3.14\n",
    "print(jf12.b_arm_1)"
   ]
  },
  {
   "attachments": {},
   "cell_type": "markdown",
   "id": "d1a3c0de",
   "metadata": {},
   "source": [
    "## 4.) Alternative initialization"
   ]
  },
  {
   "attachments": {},
   "cell_type": "markdown",
   "id": "11334a98",
   "metadata": {},
   "source": [
    "It is also possible to initialize the models directly with the grid parameters, either regular or irregular: "
   ]
  },
  {
   "cell_type": "code",
   "execution_count": 8,
   "id": "bfb9477f",
   "metadata": {},
   "outputs": [],
   "source": [
    "jaffe_regular = img.JaffeMagneticField(grid_shape, increment, zeropoint)\n",
    "jaffe_irregular = img.JaffeMagneticField(x_coordinates, y_coordinates, z_coordinates)"
   ]
  },
  {
   "attachments": {},
   "cell_type": "markdown",
   "id": "c6d614f6",
   "metadata": {},
   "source": [
    "The grid can then be evaluated via "
   ]
  },
  {
   "cell_type": "code",
   "execution_count": 9,
   "id": "a5bc8326",
   "metadata": {},
   "outputs": [],
   "source": [
    "bfield_on_regular_grid = jaffe_regular.on_grid()"
   ]
  },
  {
   "attachments": {},
   "cell_type": "markdown",
   "id": "6b89037a",
   "metadata": {},
   "source": [
    "Other grids can still be passed directly to `on_grid`. \n",
    "\n",
    "In the case of the Jaffe model, there is no immediate advantage of passing the grid to the member function or initializing the model with it, apart from maybe more structured code in the latter case. \n",
    "\n",
    "For some models, however, initializing the model with the grid maybe advantageous, as some components may be precomputed, resulting in a potentially significant speed advantage.   "
   ]
  },
  {
   "cell_type": "code",
   "execution_count": 10,
   "id": "aa362cad",
   "metadata": {},
   "outputs": [
    {
     "data": {
      "text/plain": [
       "[array([[[ 7.65699674e+04,  1.22906312e+05,  1.16344924e+05, ...,\n",
       "           2.02764148e+05,  1.87991597e+05,  1.28119587e+05],\n",
       "         [-1.36121786e+02, -2.53480012e+01,  2.68237861e+05, ...,\n",
       "           1.59437967e+05,  1.63093272e+05,  1.96089014e+05],\n",
       "         [ 2.03782807e+05,  2.12445536e+05, -2.43663476e+03, ...,\n",
       "           1.32879895e+05,  1.40497933e+05,  1.45343348e+05],\n",
       "         ...,\n",
       "         [ 1.44356700e+05,  1.27908566e+05,  1.12092369e+05, ...,\n",
       "           1.04919059e+05,  1.01070647e+05,  1.01863942e+05],\n",
       "         [ 9.34870474e+04,  9.23999728e+04,  9.73600164e+04, ...,\n",
       "           1.22358007e+05,  1.34576463e+05,  1.13335879e+05],\n",
       "         [ 8.75570236e+04,  8.08322453e+04,  5.21720858e+04, ...,\n",
       "           1.38931993e+05,  1.40757382e+05,  1.31081108e+05]],\n",
       " \n",
       "        [[ 9.53042368e+04,  9.71660409e+04,  1.05776403e+05, ...,\n",
       "           1.58212800e+05,  1.40334851e+05,  1.53388215e+05],\n",
       "         [ 1.46921347e+05,  1.13352445e+05,  1.12366403e+05, ...,\n",
       "           1.16909126e+05,  1.26134444e+05,  1.56081567e+05],\n",
       "         [ 1.51477103e+05,  1.12126561e+05,  1.32564134e+05, ...,\n",
       "           1.28375673e+05,  1.36701600e+05,  1.07425679e+05],\n",
       "         ...,\n",
       "         [ 9.81327108e+04,  9.74691172e+04,  1.01590434e+05, ...,\n",
       "           1.02345052e+05,  1.09224747e+05,  1.04999760e+05],\n",
       "         [ 8.61036564e+04,  9.05552465e+04,  9.06227023e+04, ...,\n",
       "           1.20976769e+05,  1.14621620e+05,  1.05866646e+05],\n",
       "         [ 1.11694283e+05,  9.15132602e+04,  6.56925051e+04, ...,\n",
       "           8.70960337e+04,  8.59994232e+04,  1.06229831e+05]],\n",
       " \n",
       "        [[ 1.03285773e+05,  8.62292341e+04,  7.38448011e+04, ...,\n",
       "           9.05457538e+04,  7.87031633e+04,  1.16180300e+05],\n",
       "         [ 1.10627091e+05,  9.68457837e+04,  9.35698112e+04, ...,\n",
       "           1.70776016e+03,  1.21384239e+05,  1.62328744e+05],\n",
       "         [ 1.44177140e+05,  1.29829307e+05,  1.11351775e+05, ...,\n",
       "           8.32491295e+04, -3.34945120e+02,  1.76309771e+03],\n",
       "         ...,\n",
       "         [ 8.94221022e+04,  6.77516357e+04,  4.97444602e+04, ...,\n",
       "           7.92307609e+04,  7.30819891e+04,  6.66670126e+04],\n",
       "         [ 6.07063283e+04,  6.72843302e+04,  6.60344435e+04, ...,\n",
       "           7.24140615e+04,  7.77778934e+04,  7.40473501e+04],\n",
       "         [ 8.19486288e+04,  6.49825005e+04,  7.95764447e+04, ...,\n",
       "           7.21696769e+04,  5.59983273e+04,  5.14564938e+04]],\n",
       " \n",
       "        ...,\n",
       " \n",
       "        [[ 1.38717206e+05,  1.46354609e+05,  1.23313313e+05, ...,\n",
       "           1.56761589e+05,  1.66046665e+05,  1.75876815e+05],\n",
       "         [ 1.80033592e+05,  1.66909474e+05,  1.71483706e+05, ...,\n",
       "           1.56501544e+05,  1.38061960e+05,  1.51864129e+05],\n",
       "         [ 1.86822128e+05,  1.69665399e+05,  1.71001749e+05, ...,\n",
       "           1.40861361e+05,  1.09553873e+05,  9.35019508e+04],\n",
       "         ...,\n",
       "         [ 9.91310494e+04,  9.55919239e+04,  9.28436268e+04, ...,\n",
       "           1.51157225e+05,  1.71020094e+05,  1.73585811e+05],\n",
       "         [-1.08869279e+03, -2.01355754e+03,  7.99602765e+04, ...,\n",
       "           8.31216846e+04,  8.08608533e+04,  3.91385187e+04],\n",
       "         [ 5.33636647e+04,  5.57304763e+04,  2.37975808e+01, ...,\n",
       "           1.65101480e+05,  1.70084726e+05,  1.57342550e+05]],\n",
       " \n",
       "        [[ 1.42654435e+05,  1.53640823e+05,  1.52489011e+05, ...,\n",
       "           1.62018548e+05,  1.44542204e+05,  1.80295113e+05],\n",
       "         [ 1.78348950e+05,  1.71824364e+05,  1.70556046e+05, ...,\n",
       "           1.25751234e+05,  1.15956936e+05,  1.00174377e+05],\n",
       "         [ 1.10387543e+05,  1.05719409e+05,  1.15667767e+05, ...,\n",
       "           8.50796816e+04,  9.66315449e+04,  7.87259383e+04],\n",
       "         ...,\n",
       "         [ 5.69394317e+04,  6.54716373e+04,  7.96544388e+04, ...,\n",
       "           5.98028717e+04,  6.18063319e+04,  6.74586218e+04],\n",
       "         [ 3.38074544e+04,  4.34452220e+04,  4.26420928e+04, ...,\n",
       "           1.57035137e+05,  1.64462656e+05,  1.48885108e+05],\n",
       "         [ 9.82947991e+04,  1.38488934e+05,  1.34247022e+05, ...,\n",
       "           1.65624609e+05,  1.78776424e+05,  1.94806239e+05]],\n",
       " \n",
       "        [[ 4.69079443e+09,  4.50642437e+09,  4.21041131e+09, ...,\n",
       "           4.45496815e+09,  4.07841638e+09,  4.03167144e+09],\n",
       "         [ 4.23088572e+09,  3.93465071e+09,  3.75601674e+09, ...,\n",
       "           2.77531937e+09,  4.00084312e+09,  4.49832477e+09],\n",
       "         [ 3.81225024e+09,  3.76709833e+09,  3.49679120e+09, ...,\n",
       "           3.13447215e+09,  3.05499248e+09,  3.00600439e+09],\n",
       "         ...,\n",
       "         [ 2.43474395e+09,  2.13447979e+09,  1.72519185e+09, ...,\n",
       "           1.57591658e+09,  2.14325080e+09,  2.19442150e+09],\n",
       "         [ 1.60729801e+09,  1.62183318e+09,  1.72121092e+09, ...,\n",
       "           9.45698550e+06,  2.84956238e+09,  2.49985313e+09],\n",
       "         [ 1.89689454e+09,  1.80168459e+09,  1.71803316e+09, ...,\n",
       "           3.32889379e+09, -1.61861400e+07,  8.96744010e+06]]]),\n",
       " array([[[ 4.17956353e+05,  3.20771764e+05,  3.51550882e+05, ...,\n",
       "           5.34199637e+05,  3.12753477e+05,  3.44861345e+05],\n",
       "         [ 3.54021357e+03, -1.35889581e+02,  5.28977630e+05, ...,\n",
       "           4.00186538e+05,  4.40232357e+05,  4.83461871e+05],\n",
       "         [ 5.85971272e+05,  4.62238586e+05, -1.08112437e+04, ...,\n",
       "           3.62023215e+05,  4.35116007e+05,  5.26299461e+05],\n",
       "         ...,\n",
       "         [ 4.58115988e+05,  4.18459086e+05,  3.78078050e+05, ...,\n",
       "           4.49364734e+05,  4.05521060e+05,  3.90674541e+05],\n",
       "         [ 3.39425486e+05,  3.57556338e+05,  3.45990229e+05, ...,\n",
       "           3.92705454e+05,  3.89245805e+05,  3.52288609e+05],\n",
       "         [ 3.46022384e+05,  3.33425216e+05,  3.02501899e+05, ...,\n",
       "           5.82816531e+05,  5.74138547e+05,  5.62646641e+05]],\n",
       " \n",
       "        [[ 5.09145606e+05,  4.88965418e+05,  4.28646121e+05, ...,\n",
       "           4.66420647e+05,  3.52400618e+05,  4.23874405e+05],\n",
       "         [ 4.36347454e+05,  3.13319245e+05,  2.09763231e+05, ...,\n",
       "           2.18061089e+05,  2.74533577e+05,  3.23878772e+05],\n",
       "         [ 3.53275279e+05,  1.58597608e+05,  2.08839857e+05, ...,\n",
       "           1.88739602e+05,  2.05716103e+05,  1.70659905e+05],\n",
       "         ...,\n",
       "         [ 2.23605040e+05,  2.05260862e+05,  2.15304488e+05, ...,\n",
       "           2.92280906e+05,  3.33076653e+05,  2.82371196e+05],\n",
       "         [ 2.03539257e+05,  1.79951638e+05,  1.95339415e+05, ...,\n",
       "           2.37351068e+05,  1.83459400e+05,  1.77299256e+05],\n",
       "         [ 1.26104706e+05,  7.23678584e+04,  1.01903628e+05, ...,\n",
       "           2.19359666e+05,  2.22867811e+05,  2.77235288e+05]],\n",
       " \n",
       "        [[ 3.08013129e+05,  1.93113616e+05,  2.42014200e+05, ...,\n",
       "           3.77061084e+05,  2.82880168e+05,  3.21749690e+05],\n",
       "         [ 2.13749203e+05,  1.81341547e+05,  2.50583722e+05, ...,\n",
       "           8.00797334e+03,  4.56637748e+05,  4.59888298e+05],\n",
       "         [ 4.94646460e+05,  5.15632897e+05,  5.37410481e+05, ...,\n",
       "           3.36317189e+05,  1.83273578e+03,  2.68208179e+03],\n",
       "         ...,\n",
       "         [ 1.52281334e+05,  1.04198543e+05,  1.10494659e+05, ...,\n",
       "           1.42614141e+05,  1.33433052e+05,  1.03387813e+05],\n",
       "         [ 1.13429933e+05,  4.55182153e+04,  6.87371255e+04, ...,\n",
       "           1.16438015e+05,  1.15459444e+05,  1.53392193e+05],\n",
       "         [ 1.28381602e+05,  7.09432595e+04,  4.25187093e+04, ...,\n",
       "           9.14495074e+04,  7.83282451e+04,  7.05691749e+04]],\n",
       " \n",
       "        ...,\n",
       " \n",
       "        [[ 3.54600337e+05,  4.21287175e+05,  3.79387164e+05, ...,\n",
       "           4.96378381e+05,  5.28698238e+05,  5.24507802e+05],\n",
       "         [ 5.27982220e+05,  3.89848026e+05,  3.90241057e+05, ...,\n",
       "           4.28925570e+05,  3.68853392e+05,  4.27699592e+05],\n",
       "         [ 6.04261944e+05,  5.58269446e+05,  5.81269776e+05, ...,\n",
       "           6.27339637e+05,  6.72531286e+05,  6.54521099e+05],\n",
       "         ...,\n",
       "         [ 1.58433042e+05,  1.87819899e+05,  2.00837988e+05, ...,\n",
       "          -9.44238931e+04, -3.83133522e+04, -1.59408442e+04],\n",
       "         [ 1.75410014e+03, -2.19908100e+03,  3.95651678e+04, ...,\n",
       "           9.34034834e+04,  9.54107002e+04,  7.68044421e+04],\n",
       "         [ 1.61227271e+05,  1.16199012e+05, -5.90864508e+03, ...,\n",
       "           3.27784013e+05,  2.53923473e+05,  2.83613400e+05]],\n",
       " \n",
       "        [[ 3.88252463e+05,  4.44228327e+05,  4.54860566e+05, ...,\n",
       "           4.42960329e+05,  4.00920283e+05,  5.10660517e+05],\n",
       "         [ 5.08704902e+05,  3.99031755e+05,  3.92629692e+05, ...,\n",
       "           2.72785809e+05,  2.67282183e+05,  2.66521462e+05],\n",
       "         [ 2.59403564e+05,  2.28276042e+05,  2.85394596e+05, ...,\n",
       "           2.85606276e+05,  3.36364364e+05,  3.93607385e+05],\n",
       "         ...,\n",
       "         [ 1.92087665e+05,  2.36758167e+05,  2.41359395e+05, ...,\n",
       "           2.40579929e+05,  2.25464350e+05,  3.26830890e+05],\n",
       "         [ 2.85842508e+05,  2.75314733e+05,  2.12263896e+05, ...,\n",
       "           1.58994703e+05,  2.28260685e+05,  2.37566167e+05],\n",
       "         [ 1.29462195e+05,  2.05121999e+05,  2.69229197e+05, ...,\n",
       "           1.26191867e+05,  1.42155540e+05,  1.84707064e+05]],\n",
       " \n",
       "        [[ 1.14953906e+10,  1.16283306e+10,  1.31793903e+10, ...,\n",
       "           1.40608518e+10,  1.28137862e+10,  1.31901190e+10],\n",
       "         [ 1.47792373e+10,  1.28496831e+10,  1.27407122e+10, ...,\n",
       "           1.26232032e+10,  1.50710311e+10,  1.48624718e+10],\n",
       "         [ 1.46162179e+10,  1.42342787e+10,  1.34556909e+10, ...,\n",
       "           1.02020187e+10,  1.07585943e+10,  1.20515356e+10],\n",
       "         ...,\n",
       "         [ 8.78058328e+09,  8.97024598e+09,  8.97138003e+09, ...,\n",
       "           1.09889105e+10,  1.08989835e+10,  1.07725149e+10],\n",
       "         [ 1.03066587e+10,  1.05212690e+10,  9.94568477e+09, ...,\n",
       "           4.42673023e+07,  8.68599783e+09,  7.56321046e+09],\n",
       "         [ 8.52000827e+09,  9.15745639e+09,  8.99070642e+09, ...,\n",
       "           8.85198859e+09, -6.52044689e+03, -3.72604421e+06]]]),\n",
       " array([[[ 9.38337073e+05,  8.86159929e+05,  8.84443438e+05, ...,\n",
       "           1.13590231e+06,  8.42890624e+05,  8.95342165e+05],\n",
       "         [ 6.53843978e+03,  3.31476696e+03,  1.11993253e+06, ...,\n",
       "           7.89355457e+05,  8.69189507e+05,  8.74143756e+05],\n",
       "         [ 1.06368472e+06,  1.03477373e+06, -1.77177700e+04, ...,\n",
       "           6.95920347e+05,  7.47357508e+05,  7.82029928e+05],\n",
       "         ...,\n",
       "         [ 9.50871319e+05,  8.74498925e+05,  8.33298219e+05, ...,\n",
       "           8.54299125e+05,  8.37380126e+05,  8.52187417e+05],\n",
       "         [ 8.24438170e+05,  8.18719044e+05,  8.08344085e+05, ...,\n",
       "           8.67361956e+05,  8.61895382e+05,  8.47234456e+05],\n",
       "         [ 8.69251107e+05,  8.33379697e+05,  7.65090793e+05, ...,\n",
       "           1.16424709e+06,  1.18023892e+06,  1.13246892e+06]],\n",
       " \n",
       "        [[ 1.10336715e+06,  1.09674031e+06,  1.01651079e+06, ...,\n",
       "           1.08651344e+06,  9.96943412e+05,  1.09548544e+06],\n",
       "         [ 1.04774887e+06,  8.35761132e+05,  6.26033788e+05, ...,\n",
       "           4.96605859e+05,  6.14839190e+05,  6.81062065e+05],\n",
       "         [ 7.16090924e+05,  3.63997509e+05,  3.88187216e+05, ...,\n",
       "           4.71055686e+05,  5.42708933e+05,  4.65556498e+05],\n",
       "         ...,\n",
       "         [ 6.04569299e+05,  6.03266010e+05,  5.70850730e+05, ...,\n",
       "           6.25839434e+05,  6.59395040e+05,  6.14202386e+05],\n",
       "         [ 6.24765209e+05,  5.94888333e+05,  6.13605739e+05, ...,\n",
       "           6.09141615e+05,  5.95128554e+05,  5.47257524e+05],\n",
       "         [ 5.73703898e+05,  5.18596845e+05,  5.01489725e+05, ...,\n",
       "           5.59910608e+05,  5.21440568e+05,  6.31712706e+05]],\n",
       " \n",
       "        [[ 7.59878354e+05,  6.48254017e+05,  6.77435502e+05, ...,\n",
       "           7.49862799e+05,  6.51425040e+05,  7.62750629e+05],\n",
       "         [ 7.35898508e+05,  7.04266263e+05,  7.24458204e+05, ...,\n",
       "           3.61579659e+03,  9.74054581e+05,  1.02920225e+06],\n",
       "         [ 1.06060922e+06,  1.08828157e+06,  1.02077520e+06, ...,\n",
       "           6.50547035e+05,  4.15993543e+03, -6.21214418e+02],\n",
       "         ...,\n",
       "         [ 4.72131674e+05,  4.31085020e+05,  3.28110462e+05, ...,\n",
       "           4.80813753e+05,  4.71815056e+05,  4.13967849e+05],\n",
       "         [ 3.56777167e+05,  3.71330033e+05,  4.25698761e+05, ...,\n",
       "           3.99147260e+05,  4.39588645e+05,  4.25116200e+05],\n",
       "         [ 4.77879170e+05,  3.81076867e+05,  3.76399011e+05, ...,\n",
       "           3.97854770e+05,  3.73427006e+05,  3.46286430e+05]],\n",
       " \n",
       "        ...,\n",
       " \n",
       "        [[ 4.70001723e+05,  5.90946975e+05,  5.43113741e+05, ...,\n",
       "           6.42702768e+05,  7.17171165e+05,  7.06408114e+05],\n",
       "         [ 7.28480776e+05,  6.77403050e+05,  6.46675849e+05, ...,\n",
       "           4.47589983e+05,  4.40382343e+05,  5.22528326e+05],\n",
       "         [ 8.69681871e+05,  7.47948175e+05,  7.81943125e+05, ...,\n",
       "           6.35692301e+05,  5.88779893e+05,  5.79705828e+05],\n",
       "         ...,\n",
       "         [ 7.15735578e+05,  6.26051131e+05,  6.07450864e+05, ...,\n",
       "           2.22197152e+05,  2.36812313e+05,  3.50338578e+05],\n",
       "         [ 1.37535656e+02,  1.07124703e+03,  2.07619829e+05, ...,\n",
       "           8.93178571e+04,  1.09884957e+05,  8.45699189e+04],\n",
       "         [ 2.03508458e+05,  2.77862129e+05, -3.76942977e+03, ...,\n",
       "           2.71127300e+05,  2.51809450e+05,  2.54081615e+05]],\n",
       " \n",
       "        [[ 5.44229356e+05,  5.82006844e+05,  5.94212633e+05, ...,\n",
       "           6.40974393e+05,  6.39646132e+05,  7.40356584e+05],\n",
       "         [ 7.93341830e+05,  6.76654824e+05,  6.72323547e+05, ...,\n",
       "           4.01603090e+05,  4.17280197e+05,  4.34378992e+05],\n",
       "         [ 4.41246709e+05,  4.44331408e+05,  4.96697646e+05, ...,\n",
       "           3.40770484e+05,  3.67189026e+05,  3.95250221e+05],\n",
       "         ...,\n",
       "         [ 5.79189774e+05,  6.24187343e+05,  6.03746543e+05, ...,\n",
       "           5.22674763e+05,  5.32934085e+05,  5.77691253e+05],\n",
       "         [ 5.06809021e+05,  4.62208770e+05,  4.01728858e+05, ...,\n",
       "           2.10665339e+05,  2.51568316e+05,  2.75802349e+05],\n",
       "         [ 1.76883385e+05,  2.17445504e+05,  2.53773736e+05, ...,\n",
       "           2.14010020e+05,  2.69444604e+05,  2.81800810e+05]],\n",
       " \n",
       "        [[ 2.16945355e+10,  2.09524529e+10,  1.95469163e+10, ...,\n",
       "           2.52412349e+10,  2.46743045e+10,  2.53258863e+10],\n",
       "         [ 2.80496727e+10,  2.56836799e+10,  2.50498753e+10, ...,\n",
       "           1.98402920e+10,  2.41324079e+10,  2.38996050e+10],\n",
       "         [ 2.37265793e+10,  2.26060644e+10,  2.20183041e+10, ...,\n",
       "           1.45310932e+10,  1.58520547e+10,  1.67955372e+10],\n",
       "         ...,\n",
       "         [ 2.25161484e+10,  2.06676729e+10,  1.83693290e+10, ...,\n",
       "           1.74866410e+10,  1.91613343e+10,  1.93890451e+10],\n",
       "         [ 1.81498509e+10,  1.77440739e+10,  1.76704431e+10, ...,\n",
       "           5.00355212e+07,  1.96923546e+10,  1.94039897e+10],\n",
       "         [ 1.97987310e+10,  2.05840777e+10,  1.98613358e+10, ...,\n",
       "           2.05163501e+10,  3.01893042e+07, -2.73703779e+07]]])]"
      ]
     },
     "execution_count": 10,
     "metadata": {},
     "output_type": "execute_result"
    }
   ],
   "source": [
    "grid_shape = [100, 100, 2] # necessarily a list of 3 ints! \n",
    "increment = [.16, .16, .1]  \n",
    "zeropoint = [-8, -8, 0.]\n",
    "jf12_random_1 = img.JF12RandomField() # intialize without grid\n",
    "jf12_random_1.on_grid(grid_shape, increment, zeropoint, 23)\n",
    "\n",
    "# plt.imshow(bfield_on_regular_grid[1][:, :, 0], cmap='RdBu_r', origin='lower', vmin=-0.6, vmax=0.6)"
   ]
  },
  {
   "attachments": {},
   "cell_type": "markdown",
   "id": "55e4ba82",
   "metadata": {},
   "source": [
    "### 5.) Random models"
   ]
  },
  {
   "attachments": {},
   "cell_type": "markdown",
   "id": "22db66cb",
   "metadata": {},
   "source": [
    "Random models (i.e. models which have many degrees of freedom which are not directly accessible, but are drawn from some probability distribution) have the same interface as regular models with some restrictions: \n",
    "\n",
    "1. Irregular grids are not supported, due to the fact that the models make use of Fast Fourier Transforms (FFTs).\n",
    "2. Evaluation at a single position is (not yet) supported.\n",
    "\n",
    "This only leaves the possibility to evaluate these models on a regular grid. Since random models rely on the FFTW3 module, \n",
    "initializing the models with the grid may result in somewhat faster evaluation, as this allows the precomputation of fftw `wisdom'. \n",
    "Of course this implies longer initialization."
   ]
  },
  {
   "cell_type": "code",
   "execution_count": 11,
   "id": "0d084c22",
   "metadata": {},
   "outputs": [
    {
     "name": "stdout",
     "output_type": "stream",
     "text": [
      "Case 1: Init without grid:  0.0001361370086669922\n",
      "Case 1: Filled grid in:  0.011641502380371094\n",
      "Case 2: Init with grid:  0.12502622604370117\n",
      "Case 2: Filled grid in:  0.00830698013305664\n"
     ]
    }
   ],
   "source": [
    "import time\n",
    "random_seed = 23\n",
    "\n",
    "grid_shape = [20, 30, 40] # again necessarily a list of 3 ints! \n",
    "increment = [.2, .3, .01]  \n",
    "zeropoint = [-10, -5, -.2]\n",
    "\n",
    "start = time.time()\n",
    "jf12_random_1 = img.JF12RandomField() # intialize without grid\n",
    "end = time.time()\n",
    "print('Case 1: Init without grid: ',  end - start)\n",
    "\n",
    "start = time.time()\n",
    "jf12_random_1.on_grid(grid_shape, increment, zeropoint, random_seed)\n",
    "end = time.time()\n",
    "print('Case 1: Filled grid in: ',  end - start)\n",
    "\n",
    "start = time.time()\n",
    "jf12_random_2 = img.JF12RandomField(grid_shape, increment, zeropoint) # intialize with grid\n",
    "end = time.time()\n",
    "print('Case 2: Init with grid: ',  end - start)\n",
    "\n",
    "start = time.time()\n",
    "jf12_random_2.on_grid(random_seed)\n",
    "end = time.time()\n",
    "print('Case 2: Filled grid in: ',  end - start)\n"
   ]
  },
  {
   "attachments": {},
   "cell_type": "markdown",
   "id": "c6f0dd58",
   "metadata": {},
   "source": [
    "This makes it evident, that the first case is preferable if the on_grid function is called only a few times, while the latter case will give a speed advantage with many calls (~30 in this specific example)."
   ]
  }
 ],
 "metadata": {
  "kernelspec": {
   "display_name": "Python 3 (ipykernel)",
   "language": "python",
   "name": "python3"
  },
  "language_info": {
   "codemirror_mode": {
    "name": "ipython",
    "version": 3
   },
   "file_extension": ".py",
   "mimetype": "text/x-python",
   "name": "python",
   "nbconvert_exporter": "python",
   "pygments_lexer": "ipython3",
   "version": "3.8.10"
  }
 },
 "nbformat": 4,
 "nbformat_minor": 5
}
