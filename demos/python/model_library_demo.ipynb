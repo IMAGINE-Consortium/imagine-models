{
 "cells": [
  {
   "cell_type": "markdown",
   "id": "0885a59a",
   "metadata": {},
   "source": [
    "# IMAGINE model library demo\n",
    "\n",
    "In this short demo, we illustrate the interface of the model library. \n"
   ]
  },
  {
   "cell_type": "code",
   "execution_count": 1,
   "id": "04379d51",
   "metadata": {},
   "outputs": [
    {
     "data": {
      "text/plain": [
       "<contextlib.ExitStack at 0x7f41104e39a0>"
      ]
     },
     "execution_count": 1,
     "metadata": {},
     "output_type": "execute_result"
    }
   ],
   "source": [
    "import ImagineModels as img\n",
    "import numpy as np\n",
    "import matplotlib.pyplot as plt\n",
    "from model_examples.plotting_helpers import plot_slice\n",
    "\n",
    "plt.ion()"
   ]
  },
  {
   "attachments": {},
   "cell_type": "markdown",
   "id": "9643ecbd",
   "metadata": {},
   "source": [
    "### 1.) Model initialization and evaluation at position"
   ]
  },
  {
   "attachments": {},
   "cell_type": "markdown",
   "id": "1cdbc787",
   "metadata": {},
   "source": [
    "All models are implemented as classes with a similar interface. \n",
    "The simplest way to initialize such class (in this case the [Jansson & Farrar](https://ui.adsabs.harvard.edu/abs/2012ApJ...757...14J/abstract) model) is via"
   ]
  },
  {
   "cell_type": "code",
   "execution_count": 2,
   "id": "64897a4c",
   "metadata": {},
   "outputs": [],
   "source": [
    "jf12 = img.JF12RegularField()"
   ]
  },
  {
   "attachments": {},
   "cell_type": "markdown",
   "id": "0bb36fd2",
   "metadata": {},
   "source": [
    "All models assume a Galacto-centric coordinate system in units of kiloparsec.\n",
    "They can be evaluated at a position via the `at_position` member function:"
   ]
  },
  {
   "cell_type": "code",
   "execution_count": 3,
   "id": "dc011c4b",
   "metadata": {},
   "outputs": [
    {
     "name": "stdout",
     "output_type": "stream",
     "text": [
      "(2.1935495e-316, 1.5e-323, 1.78568605e-316)\n"
     ]
    }
   ],
   "source": [
    "position = [2, -2, 0.1]\n",
    "bfield_at_position = jf12.at_position(*position)\n",
    "print(bfield_at_position)"
   ]
  },
  {
   "attachments": {},
   "cell_type": "markdown",
   "id": "ad0cdf86",
   "metadata": {},
   "source": [
    "### 2.) Evaluation on grid"
   ]
  },
  {
   "attachments": {},
   "cell_type": "markdown",
   "id": "a407a5da",
   "metadata": {},
   "source": [
    "Alternatively, one may evaluate the model on a regular grid via the `on_grid` member function.\n",
    "For this, one needs to specify the number of cells, the cell increment and the zeropoint (i.e. the location of the point with the smallest coordinate value in all directions, again in Galacto-centric coordinates). \n",
    "The output will  "
   ]
  },
  {
   "cell_type": "code",
   "execution_count": 4,
   "id": "b84de7b6",
   "metadata": {},
   "outputs": [
    {
     "name": "stderr",
     "output_type": "stream",
     "text": [
      "/home/sebastian/Development/CppProjects/imagine-models/env_imagine_develop/lib/python3.8/site-packages/matplotlib/image.py:492: RuntimeWarning: overflow encountered in divide\n",
      "  vrange /= ((a_max - a_min) / frac)\n",
      "/home/sebastian/Development/CppProjects/imagine-models/env_imagine_develop/lib/python3.8/site-packages/matplotlib/colors.py:1350: RuntimeWarning: invalid value encountered in divide\n",
      "  resdat /= (vmax - vmin)\n"
     ]
    },
    {
     "data": {
      "image/png": "[encoded data removed]",
      "text/plain": [
       "<Figure size 640x480 with 1 Axes>"
      ]
     },
     "metadata": {},
     "output_type": "display_data"
    }
   ],
   "source": [
    "shape = [100, 100, 1] # necessarily a list of 3 ints! \n",
    "increment = [.18, .18, .001]  \n",
    "refpoint = [-9., -9., 0.]\n",
    "\n",
    "bfield_on_regular_grid = jf12.on_grid(shape=shape, reference_point=refpoint, increment=increment)\n",
    "plot_slice(bfield_on_regular_grid, 0, 2, shape, refpoint, increment, -3, 3, show_cbar=False, show_labels=False, save_fig=False)"
   ]
  },
  {
   "cell_type": "markdown",
   "id": "30c659c9",
   "metadata": {},
   "source": [
    "A third possibility to evaluate the model is on an irregular grid. \n",
    "For this, one needs to specify the x, y and z coordinates in separate arrays: "
   ]
  },
  {
   "cell_type": "code",
   "execution_count": 5,
   "id": "0bdc76ae",
   "metadata": {},
   "outputs": [],
   "source": [
    "x_coordinates = np.asarray([-10, -9.5, 2])\n",
    "y_coordinates = np.asarray([-5, -2, 0, .4])\n",
    "z_coordinates = np.asarray([-.1, 0, .1])\n",
    "\n",
    "bfield_on_irregular_grid = jf12.on_grid(x_coordinates, y_coordinates, z_coordinates)"
   ]
  },
  {
   "attachments": {},
   "cell_type": "markdown",
   "id": "0eebfe88",
   "metadata": {},
   "source": [
    "### 3.) Model parameters "
   ]
  },
  {
   "cell_type": "markdown",
   "id": "2c3235d1",
   "metadata": {},
   "source": [
    "The model parameters are implemented as attributes of the classes:"
   ]
  },
  {
   "cell_type": "code",
   "execution_count": 6,
   "id": "6642af41",
   "metadata": {},
   "outputs": [
    {
     "name": "stdout",
     "output_type": "stream",
     "text": [
      "0.1\n"
     ]
    }
   ],
   "source": [
    "print(jf12.b_arm_1 )"
   ]
  },
  {
   "cell_type": "markdown",
   "id": "cf78235d",
   "metadata": {},
   "source": [
    "One can simply update the model parameters via  "
   ]
  },
  {
   "cell_type": "code",
   "execution_count": 7,
   "id": "6ae00d53",
   "metadata": {},
   "outputs": [
    {
     "name": "stdout",
     "output_type": "stream",
     "text": [
      "3.14\n"
     ]
    }
   ],
   "source": [
    "jf12.b_arm_1  = 3.14\n",
    "print(jf12.b_arm_1)"
   ]
  },
  {
   "cell_type": "markdown",
   "id": "6d30bc2c",
   "metadata": {},
   "source": [
    "### 4.) Jacobian w.r.t to model parameters\n",
    "\n",
    "The models can be differentiated w.r.t. to their model parameters at a position. \n",
    "This is useful for numerical optimization schemes that are based gradients."
   ]
  },
  {
   "cell_type": "code",
   "execution_count": 8,
   "id": "ea213829",
   "metadata": {},
   "outputs": [],
   "source": [
    "if img.__has_autodiff__:\n",
    "\n",
    "    differentiable_parameters = jf12.active_diff\n",
    "    val = jf12.derivative(0., 1., 0.)\n",
    "    # filtering parameters where the derivative is effectively 0\n",
    "    derivative = {key: [val[0][i], val[1][i], val[2][i]]  for i, key in enumerate(differentiable_parameters) if  sum([val[0][i], val[1][i], val[2][i]]) > 1e-15} \n",
    "    print(derivative)"
   ]
  },
  {
   "attachments": {},
   "cell_type": "markdown",
   "id": "d1a3c0de",
   "metadata": {},
   "source": [
    "## 5.) Alternative initialization"
   ]
  },
  {
   "attachments": {},
   "cell_type": "markdown",
   "id": "11334a98",
   "metadata": {},
   "source": [
    "It is also possible to initialize the models directly with the grid parameters, either regular or irregular: "
   ]
  },
  {
   "cell_type": "code",
   "execution_count": 9,
   "id": "bfb9477f",
   "metadata": {},
   "outputs": [],
   "source": [
    "jaffe_regular = img.JaffeMagneticField(shape, refpoint, increment)\n",
    "jaffe_irregular = img.JaffeMagneticField(x_coordinates, y_coordinates, z_coordinates)"
   ]
  },
  {
   "attachments": {},
   "cell_type": "markdown",
   "id": "c6d614f6",
   "metadata": {},
   "source": [
    "The grid can then be evaluated via "
   ]
  },
  {
   "cell_type": "code",
   "execution_count": 10,
   "id": "a5bc8326",
   "metadata": {},
   "outputs": [],
   "source": [
    "bfield_on_regular_grid = jaffe_regular.on_grid()"
   ]
  },
  {
   "attachments": {},
   "cell_type": "markdown",
   "id": "6b89037a",
   "metadata": {},
   "source": [
    "Other grids can still be passed directly to `on_grid`. \n",
    "\n",
    "In the case of the Jaffe model, there is no immediate advantage of passing the grid to the member function or initializing the model with it, apart from maybe more structured code in the latter case. \n",
    "\n",
    "For some models, however, initializing the model with the grid maybe advantageous, as some components may be precomputed, resulting in a potentially significant speed advantage.   "
   ]
  },
  {
   "attachments": {},
   "cell_type": "markdown",
   "id": "55e4ba82",
   "metadata": {},
   "source": [
    "### 6.) Random models"
   ]
  },
  {
   "attachments": {},
   "cell_type": "markdown",
   "id": "22db66cb",
   "metadata": {},
   "source": [
    "Random models (i.e. models which have many degrees of freedom which are not directly accessible, but are drawn from some probability distribution) have the same interface as regular models with some restrictions: \n",
    "\n",
    "1. Irregular grids are not supported, due to the fact that the models make use of Fast Fourier Transforms (FFTs).\n",
    "2. Evaluation at a single position is (not yet) supported.\n",
    "\n",
    "This only leaves the possibility to evaluate these models on a regular grid. Since random models rely on the FFTW3 module, \n",
    "initializing the models with the grid may result in somewhat faster evaluation, as this allows the precomputation of fftw `wisdom'. \n",
    "Of course this implies longer initialization."
   ]
  },
  {
   "cell_type": "code",
   "execution_count": 11,
   "id": "0d084c22",
   "metadata": {},
   "outputs": [
    {
     "name": "stdout",
     "output_type": "stream",
     "text": [
      "Case 1: Init without grid:  9.5367431640625e-06\n",
      "on_grid external callCase 1: Filled grid in:  0.03012394905090332\n",
      "\n",
      "Case 2: Init with grid:  0.12661170959472656\n",
      "Case 2: Filled grid in:  0.025523662567138672\n"
     ]
    }
   ],
   "source": [
    "if img.__has_random_fields__:\n",
    "\n",
    "    import time\n",
    "    random_seed = 23\n",
    "\n",
    "    grid_shape = [20, 30, 40] # again necessarily a list of 3 ints! \n",
    "    increment = [.2, .3, .01]  \n",
    "    zeropoint = [-10, -5, -.2]\n",
    "\n",
    "    start = time.time()\n",
    "    jf12_random_1 = img.JF12RandomField() # intialize without grid\n",
    "    end = time.time()\n",
    "    print('Case 1: Init without grid: ',  end - start)\n",
    "\n",
    "    start = time.time()\n",
    "    jf12_random_1.on_grid(shape=grid_shape, reference_point=refpoint, increment=increment, seed=23)\n",
    "    end = time.time()\n",
    "    print('Case 1: Filled grid in: ',  end - start)\n",
    "\n",
    "    start = time.time()\n",
    "    jf12_random_2 = img.JF12RandomField(grid_shape, zeropoint, increment) # intialize with grid\n",
    "    end = time.time()\n",
    "    print('Case 2: Init with grid: ',  end - start)\n",
    "\n",
    "    start = time.time()\n",
    "    jf12_random_2.on_grid(random_seed)\n",
    "    end = time.time()\n",
    "    print('Case 2: Filled grid in: ',  end - start)\n"
   ]
  },
  {
   "attachments": {},
   "cell_type": "markdown",
   "id": "c6f0dd58",
   "metadata": {},
   "source": [
    "This makes it evident, that the first case is preferable if the on_grid function is called only a few times, while the latter case will give a speed advantage with many calls."
   ]
  }
 ],
 "metadata": {
  "kernelspec": {
   "display_name": "Python 3 (ipykernel)",
   "language": "python",
   "name": "python3"
  },
  "language_info": {
   "codemirror_mode": {
    "name": "ipython",
    "version": 3
   },
   "file_extension": ".py",
   "mimetype": "text/x-python",
   "name": "python",
   "nbconvert_exporter": "python",
   "pygments_lexer": "ipython3",
   "version": "3.8.10"
  }
 },
 "nbformat": 4,
 "nbformat_minor": 5
}
