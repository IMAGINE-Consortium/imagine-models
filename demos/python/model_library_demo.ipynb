{
 "cells": [
  {
   "cell_type": "markdown",
   "id": "0885a59a",
   "metadata": {},
   "source": [
    "# IMAGINE model library demo\n",
    "\n",
    "In this short demo, we illustrate the interface of the model library. \n",
    "We will discuss \n"
   ]
  },
  {
   "cell_type": "code",
   "execution_count": 1,
   "id": "04379d51",
   "metadata": {},
   "outputs": [],
   "source": [
    "import ImagineModels as img\n",
    "import numpy as np"
   ]
  },
  {
   "attachments": {},
   "cell_type": "markdown",
   "id": "9643ecbd",
   "metadata": {},
   "source": [
    "### 1.) Model initialization and evaluation at position"
   ]
  },
  {
   "attachments": {},
   "cell_type": "markdown",
   "id": "1cdbc787",
   "metadata": {},
   "source": [
    "All models are implemented as classes with a similar interface. \n",
    "The simplest way to initialize such class (in this case the [Jaffe et al.](https://arxiv.org/abs/0907.3994) model) is via"
   ]
  },
  {
   "cell_type": "code",
   "execution_count": 2,
   "id": "64897a4c",
   "metadata": {},
   "outputs": [],
   "source": [
    "jaffe = img.JaffeMagneticField()"
   ]
  },
  {
   "attachments": {},
   "cell_type": "markdown",
   "id": "0bb36fd2",
   "metadata": {},
   "source": [
    "All models assume a Galacto-centric coordinate system in units of kiloparsec.\n",
    "They can be evaluated at a position via the `at_position` member function:"
   ]
  },
  {
   "cell_type": "code",
   "execution_count": 3,
   "id": "dc011c4b",
   "metadata": {},
   "outputs": [
    {
     "name": "stdout",
     "output_type": "stream",
     "text": [
      "[1.1577395759732363, -0.8220890547803285, 0.0]\n"
     ]
    }
   ],
   "source": [
    "position = [2, -2, 0.1]\n",
    "bfield_at_position = jaffe.at_position(*position)\n",
    "print(bfield_at_position)"
   ]
  },
  {
   "attachments": {},
   "cell_type": "markdown",
   "id": "ad0cdf86",
   "metadata": {},
   "source": [
    "### 2.) Evaluation on grid"
   ]
  },
  {
   "attachments": {},
   "cell_type": "markdown",
   "id": "a407a5da",
   "metadata": {},
   "source": [
    "Alternatively, one may evaluate the model on a regular grid via the `on_grid` member function.\n",
    "For this, one needs to specify the number of cells, the cell increment and the zeropoint (i.e. the location of the point with minimal coordinate in all directions, again in Galacto-centric coordinates). \n",
    "The output will  "
   ]
  },
  {
   "cell_type": "code",
   "execution_count": 4,
   "id": "b84de7b6",
   "metadata": {},
   "outputs": [
    {
     "name": "stdout",
     "output_type": "stream",
     "text": [
      "The ref to b_grid when filled 0x7fff43c4b9d0 \n",
      "\n",
      "on grid f size 3\n"
     ]
    }
   ],
   "source": [
    "grid_shape = [20, 30, 40] # necessarily a list of 3 ints! \n",
    "increment = [.2, .3, .01]  \n",
    "zeropoint = [-10, -5, -.2]\n",
    "\n",
    "bfield_on_regular_grid = jaffe.on_grid(grid_shape, increment, zeropoint)\n"
   ]
  },
  {
   "cell_type": "markdown",
   "id": "30c659c9",
   "metadata": {},
   "source": [
    "A third possibility to evaluate the model is on an irregular grid. \n",
    "For this, one needs to specify the x, y and z coordinates in separate arrays: "
   ]
  },
  {
   "cell_type": "code",
   "execution_count": 5,
   "id": "0bdc76ae",
   "metadata": {},
   "outputs": [
    {
     "name": "stdout",
     "output_type": "stream",
     "text": [
      "The ref to b_grid when filled 0x7fff43c4b9d0 \n",
      "\n",
      "on grid f size 3\n"
     ]
    }
   ],
   "source": [
    "x_coordinates = [-10, -9.5, 2]\n",
    "y_coordinates = [-5, -2, 0, .4]\n",
    "z_coordinates = [-.1, 0, .1]\n",
    "\n",
    "bfield_on_irregular_grid = jaffe.on_grid(x_coordinates, y_coordinates, z_coordinates)"
   ]
  },
  {
   "attachments": {},
   "cell_type": "markdown",
   "id": "0eebfe88",
   "metadata": {},
   "source": [
    "### 3.) Model parameters "
   ]
  },
  {
   "cell_type": "markdown",
   "id": "2c3235d1",
   "metadata": {},
   "source": [
    "The model parameters are implemented as attributes of the classes:"
   ]
  },
  {
   "cell_type": "code",
   "execution_count": 6,
   "id": "6642af41",
   "metadata": {},
   "outputs": [
    {
     "name": "stdout",
     "output_type": "stream",
     "text": [
      "0.167\n"
     ]
    }
   ],
   "source": [
    "print(jaffe.disk_amp)"
   ]
  },
  {
   "cell_type": "markdown",
   "id": "cf78235d",
   "metadata": {},
   "source": [
    "One can simply update the model parameters via  "
   ]
  },
  {
   "cell_type": "code",
   "execution_count": 7,
   "id": "6ae00d53",
   "metadata": {},
   "outputs": [
    {
     "name": "stdout",
     "output_type": "stream",
     "text": [
      "3.14\n"
     ]
    }
   ],
   "source": [
    "jaffe.disk_amp = 3.14\n",
    "print(jaffe.disk_amp)"
   ]
  },
  {
   "attachments": {},
   "cell_type": "markdown",
   "id": "d1a3c0de",
   "metadata": {},
   "source": [
    "## 4.) Alternative initialization"
   ]
  },
  {
   "attachments": {},
   "cell_type": "markdown",
   "id": "11334a98",
   "metadata": {},
   "source": [
    "It is also possible to initialize the models directly with the grid parameters, either regular or irregular: "
   ]
  },
  {
   "cell_type": "code",
   "execution_count": 8,
   "id": "bfb9477f",
   "metadata": {},
   "outputs": [],
   "source": [
    "jaffe_regular = img.JaffeMagneticField(grid_shape, increment, zeropoint)\n",
    "jaffe_irregular = img.JaffeMagneticField(x_coordinates, y_coordinates, z_coordinates)"
   ]
  },
  {
   "attachments": {},
   "cell_type": "markdown",
   "id": "c6d614f6",
   "metadata": {},
   "source": [
    "The grid can then be evaluated via "
   ]
  },
  {
   "cell_type": "code",
   "execution_count": 9,
   "id": "a5bc8326",
   "metadata": {},
   "outputs": [
    {
     "name": "stdout",
     "output_type": "stream",
     "text": [
      "The ref to b_grid when filled 0x7fff43c4ba30 \n",
      "\n",
      "on grid f size 3\n"
     ]
    }
   ],
   "source": [
    "bfield_on_regular_grid = jaffe_regular.on_grid()"
   ]
  },
  {
   "attachments": {},
   "cell_type": "markdown",
   "id": "6b89037a",
   "metadata": {},
   "source": [
    "Other grids can still be passed directly to `on_grid`. \n",
    "\n",
    "In the case of the Jaffe model, there is no immediate advantage of passing the grid to the member function or initializing the model with it, apart from maybe more structured code in the latter case. \n",
    "\n",
    "For some models, however, initializing the model with the grid maybe advantageous, as some components may be precomputed, resulting in a potentially significant speed advantage.   "
   ]
  },
  {
   "attachments": {},
   "cell_type": "markdown",
   "id": "55e4ba82",
   "metadata": {},
   "source": [
    "### 5.) Random models"
   ]
  },
  {
   "attachments": {},
   "cell_type": "markdown",
   "id": "22db66cb",
   "metadata": {},
   "source": [
    "Random models (i.e. models which have many degrees of freedom which are not directly accessible, but are drawn from some probability distribution) have the same interface as regular models with some restrictions: \n",
    "\n",
    "1. Irregular grids are not supported, due to the fact that the models make use of Fast Fourier Transforms (FFTs).\n",
    "2. Evaluation at a single position is (not yet) supported.\n",
    "\n",
    "This only leaves the possibility to evaluate these models on a regular grid. Since random models rely on the FFTW3 module, \n",
    "initializing the models with the grid may result in somewhat faster evaluation, as this allows the precomputation of fftw `wisdom'. \n",
    "Of course this implies longer initialization."
   ]
  },
  {
   "cell_type": "code",
   "execution_count": 10,
   "id": "0d084c22",
   "metadata": {},
   "outputs": [
    {
     "name": "stdout",
     "output_type": "stream",
     "text": [
      "Random vector field constructor without grid\n",
      "Initialized without grid:  0.007727622985839844\n",
      "allocate memory vf 20, 30, 40, 25200\n",
      "allocate memory vf at0x7fff43c4ba90\n",
      "allocate memory vf 20, 30, 40, 25200\n",
      "allocate memory vf at0x7fff43c4ba98\n",
      "allocate memory vf 20, 30, 40, 25200\n",
      "allocate memory vf at0x7fff43c4baa0\n",
      "JF12 random vector field _on_grid call\n",
      "JF12 random vector field _on_grid plans constructed\n",
      "JF12 random vector field _on_grid random numbers 0 drawn\n",
      "JF12 random vector field _on_grid random numbers 0 fourier transformed\n",
      "JF12 random vector field _on_grid random numbers 1 drawn\n",
      "JF12 random vector field _on_grid random numbers 1 fourier transformed\n",
      "JF12 random vector field _on_grid random numbers 2 drawn\n",
      "JF12 random vector field _on_grid random numbers 2 fourier transformed\n",
      "JF12 random vector field _on_grid all random numbers drawn\n",
      "on grid f size 3\n",
      "allocate memory vf Initialized with grid:  0.005964517593383789\n",
      "20, 30, 40, 25200\n",
      "allocate memory vf at0x7fff43c4bb20\n",
      "allocate memory vf 20, 30, 40, 25200\n",
      "allocate memory vf at0x7fff43c4bb28\n",
      "allocate memory vf 20, 30, 40, 25200\n",
      "allocate memory vf at0x7fff43c4bb30\n",
      "JF12 random vector field _on_grid call\n",
      "JF12 random vector field _on_grid plans constructed\n",
      "JF12 random vector field _on_grid random numbers 0 drawn\n",
      "JF12 random vector field _on_grid random numbers 0 fourier transformed\n",
      "JF12 random vector field _on_grid random numbers 1 drawn\n",
      "JF12 random vector field _on_grid random numbers 1 fourier transformed\n",
      "JF12 random vector field _on_grid random numbers 2 drawn\n",
      "JF12 random vector field _on_grid random numbers 2 fourier transformed\n",
      "JF12 random vector field _on_grid all random numbers drawn\n",
      "on grid f size 3\n"
     ]
    }
   ],
   "source": [
    "import time\n",
    "random_seed = 23\n",
    "\n",
    "jf12_random_1 = img.JF12RandomField() # intialize without grid\n",
    "\n",
    "start = time.time()\n",
    "jf12_random_1.on_grid(grid_shape, increment, zeropoint, random_seed)\n",
    "end = time.time()\n",
    "print('Initialized without grid: ',  end - start)\n",
    "\n",
    "jf12_random_2 = img.JF12RandomField(grid_shape, increment, zeropoint) # intialize with grid\n",
    "start = time.time()\n",
    "jf12_random_2.on_grid(random_seed)\n",
    "end = time.time()\n",
    "print('Initialized with grid: ',  end - start)\n"
   ]
  },
  {
   "cell_type": "code",
   "execution_count": null,
   "id": "c6f0dd58",
   "metadata": {},
   "outputs": [],
   "source": []
  }
 ],
 "metadata": {
  "kernelspec": {
   "display_name": "Python 3 (ipykernel)",
   "language": "python",
   "name": "python3"
  },
  "language_info": {
   "codemirror_mode": {
    "name": "ipython",
    "version": 3
   },
   "file_extension": ".py",
   "mimetype": "text/x-python",
   "name": "python",
   "nbconvert_exporter": "python",
   "pygments_lexer": "ipython3",
   "version": "3.8.10"
  }
 },
 "nbformat": 4,
 "nbformat_minor": 5
}
